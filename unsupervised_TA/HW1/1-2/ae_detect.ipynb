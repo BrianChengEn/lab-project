{
 "cells": [
  {
   "cell_type": "code",
   "execution_count": 1,
   "metadata": {},
   "outputs": [
    {
     "name": "stderr",
     "output_type": "stream",
     "text": [
      "Using TensorFlow backend.\n"
     ]
    }
   ],
   "source": [
    "import keras\n",
    "from keras import layers\n",
    "from keras.datasets import mnist\n",
    "from keras.losses import BinaryCrossentropy\n",
    "import numpy as np\n",
    "import matplotlib.pyplot as plt\n",
    "import tensorflow as tf"
   ]
  },
  {
   "cell_type": "code",
   "execution_count": 2,
   "metadata": {},
   "outputs": [],
   "source": [
    "(x_train, y_train), (x_test, y_test) = mnist.load_data()\n",
    "\n",
    "x_train = x_train.astype('float32') / 255.\n",
    "x_test = x_test.astype('float32') / 255.\n",
    "\n",
    "x_train = x_train.reshape((len(x_train), np.prod(x_train.shape[1:])))\n",
    "x_test = x_test.reshape((len(x_test), np.prod(x_test.shape[1:])))\n",
    "one_train = []\n",
    "one_test = []\n",
    "other_test = []\n",
    "for i in range(x_train.shape[0]):\n",
    "    if y_train[i] == 1:\n",
    "        one_train.append(x_train[i])\n",
    "        \n",
    "for i in range(x_test.shape[0]):\n",
    "    if y_test[i] == 1:\n",
    "        one_test.append(x_test[i])\n",
    "    else:\n",
    "        other_test.append(x_test[i])\n",
    "\n",
    "one_train = np.array(one_train)\n",
    "one_test = np.array(one_test)\n",
    "other_test = np.array(other_test)\n",
    "\n",
    "'選擇是否加入噪音進行訓練'\n",
    "'one_train加入noise'\n",
    "x_noise = np.array(one_train)\n",
    "x_noise = x_noise + 0.2 * np.random.normal(0, 1, size=x_noise.shape)\n",
    "x_noise = np.clip(x_noise, 0., 1.)\n",
    "one_train = np.concatenate([one_train, x_noise])\n",
    "\n",
    "'one_test加入noise'\n",
    "x2_noise = np.array(one_test)\n",
    "x2_noise = x2_noise + 0.2 * np.random.normal(0, 1, size=x2_noise.shape)\n",
    "x2_noise = np.clip(x2_noise, 0., 1.)\n",
    "one_test = np.concatenate([one_test, x2_noise])\n",
    "\n",
    "'other_test加入noise'\n",
    "y_noise = np.array(other_test)\n",
    "y_noise = y_noise + 0.2 * np.random.normal(0, 1, size=y_noise.shape)\n",
    "y_noise = np.clip(y_noise, 0., 1.)\n",
    "other_test = np.concatenate([other_test, y_noise])"
   ]
  },
  {
   "cell_type": "code",
   "execution_count": null,
   "metadata": {},
   "outputs": [
    {
     "name": "stdout",
     "output_type": "stream",
     "text": [
      "Train on 6742 samples, validate on 1135 samples\n",
      "Epoch 1/50\n"
     ]
    }
   ],
   "source": [
    "input_img = keras.Input(shape=(784,))\n",
    "encoded = layers.Dense(128, activation='relu')(input_img)\n",
    "encoded = layers.Dense(64, activation='relu')(encoded)\n",
    "encoded = layers.Dense(32, activation='relu')(encoded)\n",
    "\n",
    "decoded = layers.Dense(64, activation='relu')(encoded)\n",
    "decoded = layers.Dense(128, activation='relu')(decoded)\n",
    "decoded = layers.Dense(784, activation='sigmoid')(decoded)\n",
    "\n",
    "# This model maps an input to its reconstruction\n",
    "autoencoder = keras.Model(input_img, decoded)\n",
    "autoencoder.compile(optimizer='adam', loss='binary_crossentropy')\n",
    "\n",
    "autoencoder.fit(one_train, one_train,\n",
    "                epochs=50,\n",
    "                batch_size=256,\n",
    "                shuffle=True,\n",
    "                validation_data=(one_test, one_test))"
   ]
  },
  {
   "cell_type": "code",
   "execution_count": null,
   "metadata": {},
   "outputs": [],
   "source": [
    "one_de = autoencoder.predict(one_test)\n",
    "other_de = autoencoder.predict(other_test)\n",
    "\n",
    "one_loss_lst = []\n",
    "other_loss_lst = []\n",
    " \n",
    "def cross_entropy(targets, predictions):\n",
    "    N = len(predictions)\n",
    "    ce = -np.sum(targets * np.log(predictions)) / N\n",
    "    return ce\n",
    "\n",
    "for i in range(100):\n",
    "    loss = cross_entropy(one_test[i], one_de[i])\n",
    "    one_loss_lst.append(loss)\n",
    "\n",
    "plt.hist(one_loss_lst)\n",
    "plt.xlim(-.1, .5)\n",
    "plt.show()\n",
    "\n",
    "for i in range(100):\n",
    "    loss = cross_entropy(other_test[i], other_de[i])\n",
    "    other_loss_lst.append(loss)\n",
    "\n",
    "plt.hist(other_loss_lst)\n",
    "plt.xlim(-.1, .5)\n",
    "plt.show()"
   ]
  },
  {
   "cell_type": "code",
   "execution_count": null,
   "metadata": {},
   "outputs": [],
   "source": []
  }
 ],
 "metadata": {
  "kernelspec": {
   "display_name": "Python 3",
   "language": "python",
   "name": "python3"
  },
  "language_info": {
   "codemirror_mode": {
    "name": "ipython",
    "version": 3
   },
   "file_extension": ".py",
   "mimetype": "text/x-python",
   "name": "python",
   "nbconvert_exporter": "python",
   "pygments_lexer": "ipython3",
   "version": "3.7.9"
  }
 },
 "nbformat": 4,
 "nbformat_minor": 4
}
