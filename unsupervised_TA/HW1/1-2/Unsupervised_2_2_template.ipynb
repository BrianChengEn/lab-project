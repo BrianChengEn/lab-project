{
 "cells": [
  {
   "cell_type": "code",
   "execution_count": 1,
   "metadata": {},
   "outputs": [
    {
     "name": "stderr",
     "output_type": "stream",
     "text": [
      "Using TensorFlow backend.\n"
     ]
    }
   ],
   "source": [
    "import keras\n",
    "from keras import layers\n",
    "from keras.datasets import mnist\n",
    "from keras.losses import BinaryCrossentropy\n",
    "import numpy as np\n",
    "import matplotlib.pyplot as plt\n",
    "import tensorflow as tf"
   ]
  },
  {
   "cell_type": "code",
   "execution_count": 2,
   "metadata": {},
   "outputs": [],
   "source": [
    "(x_train, y_train), (x_test, y_test) = mnist.load_data()\n",
    "print(x_train.shape)\n",
    "print(x_test.shape)\n",
    "\n",
    "'max-min narmalize:將數值標準化成0-1'\n",
    "\n",
    "'reshape data size:將圖片轉成一維(28, 28) -> (784)'\n",
    "\n",
    "print(x_train.shape)\n",
    "print(x_test.shape)\n",
    "\n",
    "one_train = []\n",
    "one_test = []\n",
    "other_test = []\n",
    "#將訓練集中「數字1」的圖片存入one_train (append)\n",
    "for i in range(x_train.shape[0]):\n",
    "    ...\n",
    "        \n",
    "#將資料集中「數字1」的圖片存入one_test，其餘存入other_test\n",
    "for i in range(x_test.shape[0]):\n",
    "    ...\n",
    "\n",
    "#將list轉成np array\n",
    "train_data = np.array(one_train)\n",
    "one_test = np.array(one_test)\n",
    "other_test = np.array(other_test)\n",
    "\n",
    "'選擇是否加入噪音進行訓練'\n",
    "# 'one_train加入noise'\n",
    "# x_noise = np.array(one_train)\n",
    "# x_noise = x_noise + 0.2 * np.random.normal(0, 1, size=x_noise.shape)\n",
    "# x_noise = np.clip(x_noise, 0., 1.)\n",
    "# one_train = np.concatenate([one_train, x_noise])\n",
    "\n",
    "# 'one_test加入noise'\n",
    "# x2_noise = np.array(one_test)\n",
    "# x2_noise = x2_noise + 0.2 * np.random.normal(0, 1, size=x2_noise.shape)\n",
    "# x2_noise = np.clip(x2_noise, 0., 1.)\n",
    "# one_test = np.concatenate([one_test, x2_noise])\n",
    "\n",
    "# 'other_test加入noise'\n",
    "# y_noise = np.array(other_test)\n",
    "# y_noise = y_noise + 0.2 * np.random.normal(0, 1, size=y_noise.shape)\n",
    "# y_noise = np.clip(y_noise, 0., 1.)\n",
    "# other_test = np.concatenate([other_test, y_noise])"
   ]
  },
  {
   "cell_type": "code",
   "execution_count": 3,
   "metadata": {},
   "outputs": [
    {
     "name": "stdout",
     "output_type": "stream",
     "text": [
      "WARNING:tensorflow:From C:\\Users\\JohnnyHu\\Anaconda3\\envs\\tensorflow-gpu\\lib\\site-packages\\tensorflow_core\\python\\ops\\resource_variable_ops.py:1630: calling BaseResourceVariable.__init__ (from tensorflow.python.ops.resource_variable_ops) with constraint is deprecated and will be removed in a future version.\n",
      "Instructions for updating:\n",
      "If using Keras pass *_constraint arguments to layers.\n",
      "WARNING:tensorflow:From C:\\Users\\JohnnyHu\\Anaconda3\\envs\\tensorflow-gpu\\lib\\site-packages\\tensorflow_core\\python\\ops\\nn_impl.py:183: where (from tensorflow.python.ops.array_ops) is deprecated and will be removed in a future version.\n",
      "Instructions for updating:\n",
      "Use tf.where in 2.0, which has the same broadcast rule as np.where\n",
      "WARNING:tensorflow:From C:\\Users\\JohnnyHu\\Anaconda3\\envs\\tensorflow-gpu\\lib\\site-packages\\keras\\backend\\tensorflow_backend.py:422: The name tf.global_variables is deprecated. Please use tf.compat.v1.global_variables instead.\n",
      "\n",
      "Train on 6742 samples, validate on 1135 samples\n",
      "Epoch 1/50\n",
      "6742/6742 [==============================] - 0s 69us/step - loss: 0.4193 - val_loss: 0.1492\n",
      "Epoch 2/50\n",
      "6742/6742 [==============================] - 0s 16us/step - loss: 0.1235 - val_loss: 0.1020\n",
      "Epoch 3/50\n",
      "6742/6742 [==============================] - 0s 16us/step - loss: 0.0945 - val_loss: 0.0862\n",
      "Epoch 4/50\n",
      "6742/6742 [==============================] - 0s 16us/step - loss: 0.0845 - val_loss: 0.0795\n",
      "Epoch 5/50\n",
      "6742/6742 [==============================] - 0s 16us/step - loss: 0.0791 - val_loss: 0.0754\n",
      "Epoch 6/50\n",
      "6742/6742 [==============================] - 0s 16us/step - loss: 0.0753 - val_loss: 0.0719\n",
      "Epoch 7/50\n",
      "6742/6742 [==============================] - 0s 16us/step - loss: 0.0712 - val_loss: 0.0667\n",
      "Epoch 8/50\n",
      "6742/6742 [==============================] - 0s 17us/step - loss: 0.0663 - val_loss: 0.0627\n",
      "Epoch 9/50\n",
      "6742/6742 [==============================] - 0s 17us/step - loss: 0.0638 - val_loss: 0.0610\n",
      "Epoch 10/50\n",
      "6742/6742 [==============================] - 0s 16us/step - loss: 0.0618 - val_loss: 0.0583\n",
      "Epoch 11/50\n",
      "6742/6742 [==============================] - 0s 17us/step - loss: 0.0588 - val_loss: 0.0561\n",
      "Epoch 12/50\n",
      "6742/6742 [==============================] - 0s 16us/step - loss: 0.0570 - val_loss: 0.0548\n",
      "Epoch 13/50\n",
      "6742/6742 [==============================] - 0s 16us/step - loss: 0.0559 - val_loss: 0.0540\n",
      "Epoch 14/50\n",
      "6742/6742 [==============================] - 0s 16us/step - loss: 0.0549 - val_loss: 0.0532\n",
      "Epoch 15/50\n",
      "6742/6742 [==============================] - 0s 16us/step - loss: 0.0538 - val_loss: 0.0521\n",
      "Epoch 16/50\n",
      "6742/6742 [==============================] - 0s 16us/step - loss: 0.0526 - val_loss: 0.0512\n",
      "Epoch 17/50\n",
      "6742/6742 [==============================] - 0s 16us/step - loss: 0.0516 - val_loss: 0.0504\n",
      "Epoch 18/50\n",
      "6742/6742 [==============================] - 0s 16us/step - loss: 0.0508 - val_loss: 0.0499\n",
      "Epoch 19/50\n",
      "6742/6742 [==============================] - 0s 15us/step - loss: 0.0502 - val_loss: 0.0494\n",
      "Epoch 20/50\n",
      "6742/6742 [==============================] - 0s 16us/step - loss: 0.0496 - val_loss: 0.0487\n",
      "Epoch 21/50\n",
      "6742/6742 [==============================] - 0s 16us/step - loss: 0.0490 - val_loss: 0.0482\n",
      "Epoch 22/50\n",
      "6742/6742 [==============================] - 0s 16us/step - loss: 0.0483 - val_loss: 0.0476\n",
      "Epoch 23/50\n",
      "6742/6742 [==============================] - 0s 16us/step - loss: 0.0478 - val_loss: 0.0472\n",
      "Epoch 24/50\n",
      "6742/6742 [==============================] - 0s 16us/step - loss: 0.0473 - val_loss: 0.0468\n",
      "Epoch 25/50\n",
      "6742/6742 [==============================] - 0s 15us/step - loss: 0.0468 - val_loss: 0.0463\n",
      "Epoch 26/50\n",
      "6742/6742 [==============================] - 0s 16us/step - loss: 0.0463 - val_loss: 0.0459\n",
      "Epoch 27/50\n",
      "6742/6742 [==============================] - 0s 15us/step - loss: 0.0460 - val_loss: 0.0456\n",
      "Epoch 28/50\n",
      "6742/6742 [==============================] - 0s 16us/step - loss: 0.0456 - val_loss: 0.0455\n",
      "Epoch 29/50\n",
      "6742/6742 [==============================] - 0s 16us/step - loss: 0.0454 - val_loss: 0.0453\n",
      "Epoch 30/50\n",
      "6742/6742 [==============================] - 0s 16us/step - loss: 0.0452 - val_loss: 0.0450\n",
      "Epoch 31/50\n",
      "6742/6742 [==============================] - 0s 16us/step - loss: 0.0449 - val_loss: 0.0448\n",
      "Epoch 32/50\n",
      "6742/6742 [==============================] - 0s 16us/step - loss: 0.0447 - val_loss: 0.0447\n",
      "Epoch 33/50\n",
      "6742/6742 [==============================] - 0s 16us/step - loss: 0.0446 - val_loss: 0.0446\n",
      "Epoch 34/50\n",
      "6742/6742 [==============================] - 0s 15us/step - loss: 0.0444 - val_loss: 0.0445\n",
      "Epoch 35/50\n",
      "6742/6742 [==============================] - 0s 15us/step - loss: 0.0443 - val_loss: 0.0444\n",
      "Epoch 36/50\n",
      "6742/6742 [==============================] - 0s 16us/step - loss: 0.0442 - val_loss: 0.0442\n",
      "Epoch 37/50\n",
      "6742/6742 [==============================] - 0s 15us/step - loss: 0.0440 - val_loss: 0.0441\n",
      "Epoch 38/50\n",
      "6742/6742 [==============================] - 0s 16us/step - loss: 0.0439 - val_loss: 0.0441\n",
      "Epoch 39/50\n",
      "6742/6742 [==============================] - 0s 16us/step - loss: 0.0438 - val_loss: 0.0441\n",
      "Epoch 40/50\n",
      "6742/6742 [==============================] - 0s 16us/step - loss: 0.0437 - val_loss: 0.0439\n",
      "Epoch 41/50\n",
      "6742/6742 [==============================] - 0s 16us/step - loss: 0.0436 - val_loss: 0.0438\n",
      "Epoch 42/50\n",
      "6742/6742 [==============================] - 0s 16us/step - loss: 0.0435 - val_loss: 0.0438\n",
      "Epoch 43/50\n",
      "6742/6742 [==============================] - 0s 16us/step - loss: 0.0434 - val_loss: 0.0437\n",
      "Epoch 44/50\n",
      "6742/6742 [==============================] - 0s 16us/step - loss: 0.0433 - val_loss: 0.0436\n",
      "Epoch 45/50\n",
      "6742/6742 [==============================] - 0s 15us/step - loss: 0.0433 - val_loss: 0.0435\n",
      "Epoch 46/50\n",
      "6742/6742 [==============================] - 0s 16us/step - loss: 0.0431 - val_loss: 0.0435\n",
      "Epoch 47/50\n",
      "6742/6742 [==============================] - 0s 15us/step - loss: 0.0431 - val_loss: 0.0435\n",
      "Epoch 48/50\n",
      "6742/6742 [==============================] - 0s 15us/step - loss: 0.0430 - val_loss: 0.0433\n",
      "Epoch 49/50\n",
      "6742/6742 [==============================] - 0s 16us/step - loss: 0.0429 - val_loss: 0.0433\n",
      "Epoch 50/50\n",
      "6742/6742 [==============================] - 0s 15us/step - loss: 0.0428 - val_loss: 0.0433\n"
     ]
    },
    {
     "data": {
      "text/plain": [
       "<keras.callbacks.callbacks.History at 0x29adbac44c8>"
      ]
     },
     "execution_count": 3,
     "metadata": {},
     "output_type": "execute_result"
    }
   ],
   "source": [
    "###  encoder  ###\n",
    "input_img = keras.Input(shape=(784,))\n",
    "''''\n",
    "請設計encoder的網路\n",
    "''''\n",
    "\n",
    "###  decoder  ###\n",
    "''''\n",
    "請設計decoder的網路\n",
    "''''\n",
    "decoded = ...\n",
    "\n",
    "autoencoder = keras.Model(input_img, decoded)\n",
    "autoencoder.compile(optimizer='adam', loss='binary_crossentropy')\n",
    "\n",
    "#'僅'訓練「數字1」的圖片\n",
    "autoencoder.fit( ... , ... ,\n",
    "                epochs=...,\n",
    "                batch_size=...,\n",
    "                shuffle=True,\n",
    "                validation_data=( ... , ... ))"
   ]
  },
  {
   "cell_type": "code",
   "execution_count": 4,
   "metadata": {},
   "outputs": [
    {
     "data": {
      "image/png": "[encoded data removed]",
      "text/plain": [
       "<Figure size 432x288 with 1 Axes>"
      ]
     },
     "metadata": {
      "needs_background": "light"
     },
     "output_type": "display_data"
    },
    {
     "data": {
      "image/png": "[encoded data removed]",
      "text/plain": [
       "<Figure size 432x288 with 1 Axes>"
      ]
     },
     "metadata": {
      "needs_background": "light"
     },
     "output_type": "display_data"
    }
   ],
   "source": [
    "one_de = autoencoder.predict(one_test)\n",
    "other_de = autoencoder.predict(other_test)\n",
    "\n",
    "one_loss_lst = []\n",
    "other_loss_lst = []\n",
    "\n",
    "def cross_entropy(targets, predictions):\n",
    "    N = len(predictions)\n",
    "    ce = -np.sum(targets * np.log(predictions)) / N\n",
    "    return ce\n",
    "\n",
    "for i in range(100):\n",
    "    loss = cross_entropy(one_test[i], one_de[i])\n",
    "    one_loss_lst.append(loss)\n",
    "\n",
    "plt.hist(one_loss_lst)\n",
    "plt.xlim(-.1, .5)\n",
    "plt.show()\n",
    "\n",
    "for i in range(100):\n",
    "    loss = cross_entropy(other_test[i], other_de[i])\n",
    "    other_loss_lst.append(loss)\n",
    "\n",
    "plt.hist(other_loss_lst)\n",
    "plt.xlim(-.1, .5)\n",
    "plt.show()"
   ]
  },
  {
   "cell_type": "code",
   "execution_count": null,
   "metadata": {},
   "outputs": [],
   "source": []
  }
 ],
 "metadata": {
  "kernelspec": {
   "display_name": "Python 3",
   "language": "python",
   "name": "python3"
  },
  "language_info": {
   "codemirror_mode": {
    "name": "ipython",
    "version": 3
   },
   "file_extension": ".py",
   "mimetype": "text/x-python",
   "name": "python",
   "nbconvert_exporter": "python",
   "pygments_lexer": "ipython3",
   "version": "3.7.9"
  }
 },
 "nbformat": 4,
 "nbformat_minor": 4
}
