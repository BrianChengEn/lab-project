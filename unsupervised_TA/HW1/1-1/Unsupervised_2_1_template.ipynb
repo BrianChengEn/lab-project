{
 "cells": [
  {
   "cell_type": "code",
   "execution_count": 2,
   "metadata": {},
   "outputs": [
    {
     "name": "stderr",
     "output_type": "stream",
     "text": [
      "Using TensorFlow backend.\n"
     ]
    }
   ],
   "source": [
    "import keras\n",
    "from keras.layers import Dense, Input\n",
    "from keras.models import Model\n",
    "from keras.datasets import mnist\n",
    "import numpy as np"
   ]
  },
  {
   "cell_type": "code",
   "execution_count": 3,
   "metadata": {},
   "outputs": [
    {
     "name": "stdout",
     "output_type": "stream",
     "text": [
      "(60000, 28, 28)\n",
      "(10000, 28, 28)\n",
      "(60000, 28, 28)\n",
      "(10000, 28, 28)\n"
     ]
    }
   ],
   "source": [
    "(x_train, _), (x_test, y_test) = mnist.load_data()\n",
    "\n",
    "'max-min narmalize:請將數值標準化成0-1'\n",
    "\n",
    "'reshape data size:請將圖片轉成一維(28, 28) -> (784)'\n",
    "\n",
    "print(x_train.shape)\n",
    "print(x_test.shape)"
   ]
  },
  {
   "cell_type": "code",
   "execution_count": 3,
   "metadata": {},
   "outputs": [
    {
     "name": "stdout",
     "output_type": "stream",
     "text": [
      "WARNING:tensorflow:From C:\\Users\\JohnnyHu\\Anaconda3\\envs\\tensorflow-gpu\\lib\\site-packages\\tensorflow_core\\python\\ops\\resource_variable_ops.py:1630: calling BaseResourceVariable.__init__ (from tensorflow.python.ops.resource_variable_ops) with constraint is deprecated and will be removed in a future version.\n",
      "Instructions for updating:\n",
      "If using Keras pass *_constraint arguments to layers.\n",
      "WARNING:tensorflow:From C:\\Users\\JohnnyHu\\Anaconda3\\envs\\tensorflow-gpu\\lib\\site-packages\\tensorflow_core\\python\\ops\\nn_impl.py:183: where (from tensorflow.python.ops.array_ops) is deprecated and will be removed in a future version.\n",
      "Instructions for updating:\n",
      "Use tf.where in 2.0, which has the same broadcast rule as np.where\n"
     ]
    }
   ],
   "source": [
    "###  encoder  ###\n",
    "input_img = Input(shape=( ... ))  ## 輸入大小必須和圖片大小一樣\n",
    "''''\n",
    "請設計encoder的網路\n",
    "''''\n",
    "encoded = ...\n",
    "\n",
    "encoder = Model(input_img, encoded) ## 建立encoder model，input_img是輸入層，encoded是輸出層\n",
    "\n",
    "###  decoder  ###\n",
    "latent_input = Input(shape=( ... ))  ## decoder的輸入大小必須和encoder最後一層輸出大小一樣\n",
    "''''\n",
    "請設計decoder的網路\n",
    "''''\n",
    "decoded = ... #最後一層activation選擇sigmoid\n",
    "\n",
    "decoder = Model(latent_input, decoded) ## 建立decoder model，latent_input是輸入層，decoded是輸出層"
   ]
  },
  {
   "cell_type": "code",
   "execution_count": 4,
   "metadata": {
    "scrolled": true
   },
   "outputs": [
    {
     "name": "stdout",
     "output_type": "stream",
     "text": [
      "WARNING:tensorflow:From C:\\Users\\JohnnyHu\\Anaconda3\\envs\\tensorflow-gpu\\lib\\site-packages\\keras\\backend\\tensorflow_backend.py:422: The name tf.global_variables is deprecated. Please use tf.compat.v1.global_variables instead.\n",
      "\n",
      "Train on 60000 samples, validate on 10000 samples\n",
      "Epoch 1/50\n",
      "60000/60000 [==============================] - 1s 21us/step - loss: 0.2761 - val_loss: 0.2263\n",
      "Epoch 2/50\n",
      "60000/60000 [==============================] - 1s 15us/step - loss: 0.2217 - val_loss: 0.2163\n",
      "Epoch 3/50\n",
      "60000/60000 [==============================] - 1s 15us/step - loss: 0.2136 - val_loss: 0.2095\n",
      "Epoch 4/50\n",
      "60000/60000 [==============================] - 1s 15us/step - loss: 0.2062 - val_loss: 0.2034\n",
      "Epoch 5/50\n",
      "60000/60000 [==============================] - 1s 15us/step - loss: 0.2012 - val_loss: 0.1993\n",
      "Epoch 6/50\n",
      "60000/60000 [==============================] - 1s 15us/step - loss: 0.1977 - val_loss: 0.1966\n",
      "Epoch 7/50\n",
      "60000/60000 [==============================] - 1s 15us/step - loss: 0.1953 - val_loss: 0.1948\n",
      "Epoch 8/50\n",
      "60000/60000 [==============================] - 1s 15us/step - loss: 0.1936 - val_loss: 0.1931\n",
      "Epoch 9/50\n",
      "60000/60000 [==============================] - 1s 15us/step - loss: 0.1922 - val_loss: 0.1917\n",
      "Epoch 10/50\n",
      "60000/60000 [==============================] - 1s 15us/step - loss: 0.1911 - val_loss: 0.1912\n",
      "Epoch 11/50\n",
      "60000/60000 [==============================] - 1s 15us/step - loss: 0.1900 - val_loss: 0.1897\n",
      "Epoch 12/50\n",
      "60000/60000 [==============================] - 1s 15us/step - loss: 0.1891 - val_loss: 0.1890\n",
      "Epoch 13/50\n",
      "60000/60000 [==============================] - 1s 15us/step - loss: 0.1883 - val_loss: 0.1885\n",
      "Epoch 14/50\n",
      "60000/60000 [==============================] - 1s 15us/step - loss: 0.1876 - val_loss: 0.1880\n",
      "Epoch 15/50\n",
      "60000/60000 [==============================] - 1s 15us/step - loss: 0.1869 - val_loss: 0.1874\n",
      "Epoch 16/50\n",
      "60000/60000 [==============================] - 1s 15us/step - loss: 0.1864 - val_loss: 0.1868\n",
      "Epoch 17/50\n",
      "60000/60000 [==============================] - 1s 15us/step - loss: 0.1858 - val_loss: 0.1868\n",
      "Epoch 18/50\n",
      "60000/60000 [==============================] - 1s 16us/step - loss: 0.1853 - val_loss: 0.1862\n",
      "Epoch 19/50\n",
      "60000/60000 [==============================] - 1s 15us/step - loss: 0.1849 - val_loss: 0.1856\n",
      "Epoch 20/50\n",
      "60000/60000 [==============================] - 1s 15us/step - loss: 0.1844 - val_loss: 0.1857\n",
      "Epoch 21/50\n",
      "60000/60000 [==============================] - 1s 15us/step - loss: 0.1839 - val_loss: 0.1851\n",
      "Epoch 22/50\n",
      "60000/60000 [==============================] - 1s 15us/step - loss: 0.1836 - val_loss: 0.1847\n",
      "Epoch 23/50\n",
      "60000/60000 [==============================] - 1s 15us/step - loss: 0.1832 - val_loss: 0.1845\n",
      "Epoch 24/50\n",
      "60000/60000 [==============================] - 1s 15us/step - loss: 0.1829 - val_loss: 0.1843\n",
      "Epoch 25/50\n",
      "60000/60000 [==============================] - 1s 15us/step - loss: 0.1825 - val_loss: 0.1840\n",
      "Epoch 26/50\n",
      "60000/60000 [==============================] - 1s 15us/step - loss: 0.1822 - val_loss: 0.1838\n",
      "Epoch 27/50\n",
      "60000/60000 [==============================] - 1s 15us/step - loss: 0.1818 - val_loss: 0.1836\n",
      "Epoch 28/50\n",
      "60000/60000 [==============================] - 1s 15us/step - loss: 0.1815 - val_loss: 0.1832\n",
      "Epoch 29/50\n",
      "60000/60000 [==============================] - 1s 15us/step - loss: 0.1813 - val_loss: 0.1827\n",
      "Epoch 30/50\n",
      "60000/60000 [==============================] - 1s 15us/step - loss: 0.1809 - val_loss: 0.1825\n",
      "Epoch 31/50\n",
      "60000/60000 [==============================] - 1s 15us/step - loss: 0.1808 - val_loss: 0.1827\n",
      "Epoch 32/50\n",
      "60000/60000 [==============================] - 1s 15us/step - loss: 0.1804 - val_loss: 0.1824\n",
      "Epoch 33/50\n",
      "60000/60000 [==============================] - 1s 15us/step - loss: 0.1802 - val_loss: 0.1825\n",
      "Epoch 34/50\n",
      "60000/60000 [==============================] - 1s 15us/step - loss: 0.1799 - val_loss: 0.1820\n",
      "Epoch 35/50\n",
      "60000/60000 [==============================] - 1s 16us/step - loss: 0.1797 - val_loss: 0.1818\n",
      "Epoch 36/50\n",
      "60000/60000 [==============================] - 1s 15us/step - loss: 0.1795 - val_loss: 0.1816\n",
      "Epoch 37/50\n",
      "60000/60000 [==============================] - 1s 15us/step - loss: 0.1792 - val_loss: 0.1817\n",
      "Epoch 38/50\n",
      "60000/60000 [==============================] - 1s 15us/step - loss: 0.1790 - val_loss: 0.1811\n",
      "Epoch 39/50\n",
      "60000/60000 [==============================] - 1s 15us/step - loss: 0.1787 - val_loss: 0.1811\n",
      "Epoch 40/50\n",
      "60000/60000 [==============================] - 1s 15us/step - loss: 0.1786 - val_loss: 0.1809\n",
      "Epoch 41/50\n",
      "60000/60000 [==============================] - 1s 15us/step - loss: 0.1783 - val_loss: 0.1810\n",
      "Epoch 42/50\n",
      "60000/60000 [==============================] - 1s 15us/step - loss: 0.1781 - val_loss: 0.1806\n",
      "Epoch 43/50\n",
      "60000/60000 [==============================] - 1s 15us/step - loss: 0.1779 - val_loss: 0.1804\n",
      "Epoch 44/50\n",
      "60000/60000 [==============================] - 1s 15us/step - loss: 0.1777 - val_loss: 0.1804\n",
      "Epoch 45/50\n",
      "60000/60000 [==============================] - 1s 15us/step - loss: 0.1775 - val_loss: 0.1804\n",
      "Epoch 46/50\n",
      "60000/60000 [==============================] - 1s 15us/step - loss: 0.1772 - val_loss: 0.1799\n",
      "Epoch 47/50\n",
      "60000/60000 [==============================] - 1s 15us/step - loss: 0.1771 - val_loss: 0.1799\n",
      "Epoch 48/50\n",
      "60000/60000 [==============================] - 1s 15us/step - loss: 0.1769 - val_loss: 0.1794\n",
      "Epoch 49/50\n",
      "60000/60000 [==============================] - 1s 15us/step - loss: 0.1767 - val_loss: 0.1795\n",
      "Epoch 50/50\n",
      "60000/60000 [==============================] - 1s 15us/step - loss: 0.1765 - val_loss: 0.1796\n"
     ]
    },
    {
     "data": {
      "text/plain": [
       "<keras.callbacks.callbacks.History at 0x207a0c464c8>"
      ]
     },
     "execution_count": 4,
     "metadata": {},
     "output_type": "execute_result"
    }
   ],
   "source": [
    "###  autoencoder  ##\n",
    "output_img = decoder(encoder(input_img))  ##把encoder和decoder接起來\n",
    "\n",
    "autoencoder = Model(input_img, output_img)  ## 建立autoencoder model，input_img是輸入層，output是輸出層\n",
    "autoencoder.compile(optimizer='adam', loss='binary_crossentropy')\n",
    "\n",
    "### (1)設定訓練集'輸入'，以及'輸出的目標'\n",
    "### (2)設定測試集'輸入'，以及'輸出的目標'\n",
    "autoencoder.fit( ... ,  ... ,\n",
    "                epochs=...,\n",
    "                batch_size=...,\n",
    "                shuffle=True,\n",
    "                validation_data=( ... , ... ))"
   ]
  },
  {
   "cell_type": "code",
   "execution_count": 6,
   "metadata": {},
   "outputs": [
    {
     "data": {
      "image/png": "[encoded data removed]",
      "text/plain": [
       "<Figure size 1440x288 with 20 Axes>"
      ]
     },
     "metadata": {
      "needs_background": "light"
     },
     "output_type": "display_data"
    }
   ],
   "source": [
    "decoded_imgs = autoencoder.predict(x_test)\n",
    "import matplotlib.pyplot as plt\n",
    "\n",
    "n = 10\n",
    "plt.figure(figsize=(20, 4))\n",
    "for i in range(n):\n",
    "    ax = plt.subplot(2, n, i + 1)\n",
    "    plt.imshow(x_test[i].reshape(28, 28))\n",
    "    plt.gray()\n",
    "    ax.get_xaxis().set_visible(False)\n",
    "    ax.get_yaxis().set_visible(False)\n",
    "\n",
    "    ax = plt.subplot(2, n, i + 1 + n)\n",
    "    plt.imshow(decoded_imgs[i].reshape(28, 28))\n",
    "    plt.gray()\n",
    "    ax.get_xaxis().set_visible(False)\n",
    "    ax.get_yaxis().set_visible(False)\n",
    "plt.show()"
   ]
  },
  {
   "cell_type": "code",
   "execution_count": null,
   "metadata": {},
   "outputs": [],
   "source": []
  }
 ],
 "metadata": {
  "kernelspec": {
   "display_name": "Python 3",
   "language": "python",
   "name": "python3"
  },
  "language_info": {
   "codemirror_mode": {
    "name": "ipython",
    "version": 3
   },
   "file_extension": ".py",
   "mimetype": "text/x-python",
   "name": "python",
   "nbconvert_exporter": "python",
   "pygments_lexer": "ipython3",
   "version": "3.7.9"
  }
 },
 "nbformat": 4,
 "nbformat_minor": 4
}
